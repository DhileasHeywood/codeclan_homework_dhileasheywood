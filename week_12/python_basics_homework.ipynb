{
 "cells": [
  {
   "cell_type": "markdown",
   "metadata": {},
   "source": [
    "### 1.1"
   ]
  },
  {
   "cell_type": "code",
   "execution_count": 3,
   "metadata": {},
   "outputs": [
    {
     "data": {
      "text/plain": [
       "[3, 42]"
      ]
     },
     "execution_count": 3,
     "metadata": {},
     "output_type": "execute_result"
    }
   ],
   "source": [
    "# writing a function that takes in a list and returns a two-element list \n",
    "# containing the first and last elements of the inputted list\n",
    "\n",
    "def first_and_last(input_list):\n",
    "    output_list = [input_list[0], input_list[-1]]\n",
    "    return output_list\n",
    "    \n",
    "first_and_last([3, 4, 6, 2, 10, 42])"
   ]
  },
  {
   "cell_type": "markdown",
   "metadata": {},
   "source": [
    "### 1.2"
   ]
  },
  {
   "cell_type": "code",
   "execution_count": 59,
   "metadata": {},
   "outputs": [],
   "source": [
    "def count_letters_digits(string):\n",
    "    numbers = sum(c.isdigit() for c in string)\n",
    "    letters = sum(c.isalpha() for c in string)\n",
    "    spaces = sum(c.isspace() for c in string)\n",
    "    others = len(string) - numbers - letters - spaces\n",
    "    \n",
    "    character_dictionary = {\"numbers\":numbers,\n",
    "                            \"letters\":letters, \n",
    "                            \"spaces\":spaces, \n",
    "                            \"others\":others}\n",
    "    \n",
    "    print(f\"There are {numbers} numbers\") \n",
    "    print(f\"There are {letters} letters\") \n",
    "    print(f\"There are {spaces} spaces\")\n",
    "    print(f\"There are {others} other types of character\")\n",
    "    \n",
    "    return character_dictionary\n",
    "        "
   ]
  },
  {
   "cell_type": "code",
   "execution_count": 60,
   "metadata": {},
   "outputs": [
    {
     "name": "stdout",
     "output_type": "stream",
     "text": [
      "There are 3 numbers\n",
      "There are 3 letters\n",
      "There are 2 spaces\n",
      "There are 3 other types of character\n"
     ]
    },
    {
     "data": {
      "text/plain": [
       "{'numbers': 3, 'letters': 3, 'spaces': 2, 'others': 3}"
      ]
     },
     "execution_count": 60,
     "metadata": {},
     "output_type": "execute_result"
    }
   ],
   "source": [
    "test_string = \"abc 123 ***\"\n",
    "count_letters_digits(test_string)"
   ]
  },
  {
   "cell_type": "code",
   "execution_count": 56,
   "metadata": {},
   "outputs": [
    {
     "name": "stdout",
     "output_type": "stream",
     "text": [
      "There are 2 numbers\n",
      "There are 30 letters\n",
      "There are 8 spaces\n",
      "There are 4 other types of character\n"
     ]
    }
   ],
   "source": [
    "another_test = \"Hello! My name is Dhileas! I'm 25 years old.\"\n",
    "count_letters_digits(another_test)"
   ]
  },
  {
   "cell_type": "markdown",
   "metadata": {},
   "source": [
    "### 2. Extension"
   ]
  },
  {
   "cell_type": "code",
   "execution_count": null,
   "metadata": {},
   "outputs": [],
   "source": []
  }
 ],
 "metadata": {
  "kernelspec": {
   "display_name": "Python 3",
   "language": "python",
   "name": "python3"
  },
  "language_info": {
   "codemirror_mode": {
    "name": "ipython",
    "version": 3
   },
   "file_extension": ".py",
   "mimetype": "text/x-python",
   "name": "python",
   "nbconvert_exporter": "python",
   "pygments_lexer": "ipython3",
   "version": "3.7.6"
  }
 },
 "nbformat": 4,
 "nbformat_minor": 4
}
